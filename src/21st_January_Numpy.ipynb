{
 "cells": [
  {
   "cell_type": "markdown",
   "id": "9f9a5b95-7d97-4c3a-92b6-cdafd329756c",
   "metadata": {},
   "source": [
    "<h1>Numpy</h1>"
   ]
  },
  {
   "cell_type": "markdown",
   "id": "9babf04a-0b86-44ea-b3b7-5efc2a81680a",
   "metadata": {},
   "source": [
    "<b>1. What is a Python library? Why do we use Python libraries?</b>"
   ]
  },
  {
   "cell_type": "markdown",
   "id": "0128b644-8fca-4d5e-ba7b-d5fda8c0e1d9",
   "metadata": {
    "tags": []
   },
   "source": [
    "\n",
    "A Python library is a collection of modules that contain functions and classes which can be used by other programs to perform various tasks. These libraries are particularly useful for accessing pre-written, frequently used codes instead of writing them from scratch every single time. They are essentially a collection of reusable resources, providing a foundation for numerous open-source libraries available in Python<br>\n",
    "\n",
    "Python libraries play a crucial role and are very helpful to developers. They offer a wide range of functionalities and capabilities, allowing developers to perform tasks such as machine learning, artificial intelligence, neural networks, data science, data visualization, image and data manipulation, and many more. By using Python libraries, developers can avoid having to rewrite existing program code, which significantly speeds up and simplifies the process of development <br>\n",
    "In summary, Python libraries are used to:<br>\n",
    "\n",
    "Access pre-written, frequently used codes.<br>\n",
    "Perform various tasks such as machine learning, data science, data visualization, and more.<br>\n",
    "Avoid rewriting existing program code, which speeds up and simplifies the development process<br>\n",
    "\n",
    "By leveraging Python libraries, developers can tap into a vast array of functionalities and capabilities, making their programming tasks more efficient and effective<br>"
   ]
  },
  {
   "cell_type": "markdown",
   "id": "9a2c9a06-a941-4ffd-91ab-e43c8cb8ce88",
   "metadata": {},
   "source": [
    "<b>2. What is the difference between Numpy array an^ List?</b>"
   ]
  },
  {
   "cell_type": "markdown",
   "id": "c50962d8-53e0-4e04-bda6-6cc25a9c2a45",
   "metadata": {
    "tags": []
   },
   "source": [
    "\n",
    "In Python, there are several differences between Numpy arrays and lists:<br>\n",
    "Numpy Array:<br>\n",
    "Numpy arrays are not the in-built data structure readily available in Python. They must be imported from the 'array' or 'numpy' module.<br>\n",
    "Numpy arrays store elements of similar types, and if we try to store elements of different types, it will throw an error .<br>\n",
    "Numpy arrays are homogeneous by default, meaning the data inside an array must be of the same datatype .<br>\n",
    "Numpy arrays allow for element-wise operations and have various functions, methods, and variables to ease the task of matrix computation .<br>\n",
    "Numpy arrays require smaller memory consumption compared to Python lists and store items in a sequential manner.<br>\n",
    "Numpy arrays are faster compared to lists, especially for vector operations.<br>\n",
    "\n",
    "List:<br>\n",
    "Lists are the inbuilt data structure of Python and can be used without importing anything.<br>\n",
    "Lists can store elements of different types and can even nest lists with other data structures like lists, dictionaries, tuples, etc .<br>\n",
    "Lists are both homogeneous and heterogeneous, allowing for different types of datatypes.<br>\n",
    "Element-wise operation is not possible on lists, and they require more memory compared to Numpy arrays.<br>\n",
    "\n",
    "In summary, Numpy arrays are more suitable for scientific computing, as they are faster, require less memory, and facilitate advanced mathematical and other types of operations on large numbers of data, while lists are more flexible in terms of the types of data they can store<br>"
   ]
  },
  {
   "cell_type": "markdown",
   "id": "305d013d-2922-4dcb-a4c3-c1bf1daaf7da",
   "metadata": {},
   "source": [
    "<b>3. Find the shape, size and dimension of the following array?<br>\n",
    "[[1, 2, 3, 4]<br>\n",
    "[5, 6, 7, 8],<br>\n",
    "[9, 10, 11, 12]]</b>"
   ]
  },
  {
   "cell_type": "markdown",
   "id": "f7b778f4-9b0c-4c04-91d9-bd9d0aa3bc84",
   "metadata": {
    "tags": []
   },
   "source": [
    "\n",
    "To find the shape, size, and dimension of the given array [[1, 2, 3, 4], [5, 6, 7, 8], [9, 10, 11, 12]] in Python without using built-in functions and using an optimizer technique, we can analyze the array manually.<br>\n",
    "Analysis:<br>\n",
    "\n",
    "Shape: The shape of the array is determined by the number of rows and columns it contains. In this case, the shape is (3, 4) as there are 3 rows and 4 columns.<br>\n",
    "Size: The size of the array is the total number of elements it contains. In this case, the size is 12.<br>\n",
    "Dimension: The dimension of the array is 2, as it is a 2-dimensional array.<br>\n",
    "<br>\n",
    "<pre># Given array\n",
    "arr = [[1, 2, 3, 4], [5, 6, 7, 8], [9, 10, 11, 12]]\n",
    "\n",
    "# Shape\n",
    "num_rows = len(arr)\n",
    "num_cols = len(arr[0])\n",
    "shape = (num_rows, num_cols)\n",
    "\n",
    "# Size\n",
    "size = num_rows * num_cols\n",
    "\n",
    "# Dimension\n",
    "dimension = 2  # As the array is 2-dimensional\n",
    "\n",
    "# Output\n",
    "print(\"Shape:\", shape)\n",
    "print(\"Size:\", size)\n",
    "print(\"Dimension:\", dimension)\n",
    "</pre>"
   ]
  },
  {
   "cell_type": "markdown",
   "id": "2197f7ba-aa7f-4de9-bb97-2f48ee2103ad",
   "metadata": {},
   "source": [
    "<b>4. Write python code to access the first row of the following array?<br>\n",
    "[[1, 2, 3, 4]<br>\n",
    "[5, 6, 7, 8],<br>\n",
    "[9, 10, 11, 12]]</b>"
   ]
  },
  {
   "cell_type": "markdown",
   "id": "bcd3864b-ca96-4cb1-8532-00727f00cfd0",
   "metadata": {
    "tags": []
   },
   "source": [
    "\n",
    "<pre># Given array\n",
    "arr = [[1, 2, 3, 4], [5, 6, 7, 8], [9, 10, 11, 12]]\n",
    "\n",
    "# Accessing the first row without built-in functions\n",
    "first_row = arr[0]\n",
    "\n",
    "# Output\n",
    "print(\"First Row:\", first_row)\n",
    "</pre>\n",
    "In the given code, we access the first row of the array arr directly using the index [0] and store it in the variable first_row. This is achieved without using any built-in functions, and it provides a straightforward and optimized approach to access the first row of the array.\n",
    "\n",
    "By manually analyzing the array and using an optimizer technique, we access the first row without relying on built-in functions.<br>"
   ]
  },
  {
   "cell_type": "markdown",
   "id": "b96a0beb-57b7-4e45-b83a-09461e58a589",
   "metadata": {},
   "source": [
    "<b>5. How do you access the element at the third row and fourth column from the given numpy array?<br>\n",
    "[[1, 2, 3, 4]<br>\n",
    "[5, 6, 7, 8],<br>\n",
    "[9, 10, 11, 12]]</b>"
   ]
  },
  {
   "cell_type": "markdown",
   "id": "a180dd5f-4096-4fca-a6ad-90a6c9e41751",
   "metadata": {
    "tags": []
   },
   "source": [
    "\n",
    "<pre># Given array\n",
    "arr = [[1, 2, 3, 4], [5, 6, 7, 8], [9, 10, 11, 12]]\n",
    "\n",
    "# Accessing the element at the third row and fourth column without built-in functions\n",
    "element = arr[2][3]\n",
    "\n",
    "# Output\n",
    "print(\"Element at the third row and fourth column:\", element)\n",
    "</pre>\n",
    "Analysis:<br>\n",
    "In the given code, we access the element at the third row and fourth column of the array arr directly using the indices [2][3] and store it in the variable element. This is achieved without using any built-in functions, and it provides a straightforward and optimized approach to access the specific element of the array.\n",
    "\n",
    "By manually analyzing the array and using an optimizer technique, we access the element at the third row and fourth column without relying on built-in functions.<br>"
   ]
  },
  {
   "cell_type": "markdown",
   "id": "78f5a89a-122f-4d59-8c71-1579a55af774",
   "metadata": {},
   "source": [
    "<b>6. Write code to extract all odd-indexed elements from the given numpy array?<br>\n",
    "[[1, 2, 3, 4]<br>\n",
    "[5, 6, 7, 8],<br>\n",
    "[9, 10, 11, 12]]</b>"
   ]
  },
  {
   "cell_type": "markdown",
   "id": "e42b498c-b21b-424c-8103-448073f4d0e6",
   "metadata": {
    "tags": []
   },
   "source": [
    "\n",
    "<pre># Given array\n",
    "arr = [[1, 2, 3, 4], [5, 6, 7, 8], [9, 10, 11, 12]]\n",
    "\n",
    "# Extracting all odd-indexed elements without built-in functions\n",
    "odd_indexed_elements = [row[1] for row in arr]\n",
    "\n",
    "# Output\n",
    "print(\"Odd-indexed Elements:\", odd_indexed_elements)\n",
    "</pre>\n",
    "In the given code, we extract all the odd-indexed elements from the array arr by iterating through each row and selecting the element at index 1 (which corresponds to the odd index). This is achieved without using any built-in functions, providing a straightforward and optimized approach to extract the odd-indexed elements from the array.\n",
    "\n",
    "\n",
    "By manually analyzing the array and using an optimizer technique, we extract all odd-indexed elements without relying on built-in functions.<br>"
   ]
  },
  {
   "cell_type": "markdown",
   "id": "d1686e31-0578-4a72-99a9-978b414834df",
   "metadata": {},
   "source": [
    "<b>7. How can you generate a random 3x3 matrix with values between 0 and 1?</b>"
   ]
  },
  {
   "cell_type": "markdown",
   "id": "1447dd36-d5dd-43f3-89f8-7f95ee08e0d5",
   "metadata": {
    "tags": []
   },
   "source": [
    "\n",
    "<pre>import numpy as np\n",
    "\n",
    "# Generating a 3x3 array of random numbers between 0 and 1 using np.random.random()\n",
    "random_matrix = np.random.random((3, 3))\n",
    "\n",
    "# Printing the random matrix\n",
    "print(\"Random 3x3 Matrix:\")\n",
    "print(random_matrix)\n",
    "</pre>\n",
    "In this code, we use the np.random.random() function from the NumPy library to generate a 3x3 array of random floating-point numbers between 0 and 1. The np.random.random((3, 3)) call specifies the shape of the array as 3x3. Finally, we print the generated random matrix.\n",
    "\n",
    "\n",
    "This approach leverages the NumPy library to efficiently generate the random matrix with the specified values and dimensions.<br>"
   ]
  },
  {
   "cell_type": "markdown",
   "id": "a72c8031-af21-49ef-92b5-e2584ed7b2c6",
   "metadata": {},
   "source": [
    "<b>8. Describe the difference between np.random.rand and np.random.randn?</b>"
   ]
  },
  {
   "cell_type": "markdown",
   "id": "efb78a55-41b4-454d-9822-7f25b3dfa543",
   "metadata": {
    "tags": []
   },
   "source": [
    "\n",
    "The main difference between np.random.rand and np.random.randn in Python is the probability distribution from which the random numbers are drawn.<br>\n",
    "np.random.rand:<br>\n",
    "This function generates random numbers from a uniform distribution over the range (0, 1). It takes the dimensions of the output array as separate arguments. For example, np.random.rand(3, 3) would generate a 3x3 array of random numbers between 0 and 1, uniformly distributed.<br>\n",
    "\n",
    "np.random.randn:<br>\n",
    "In contrast, this function generates random numbers from a standard normal distribution with a mean of 0 and a standard deviation of 1. It also takes the dimensions of the output array as separate arguments. For example, np.random.randn(3, 3) would generate a 3x3 array of random numbers from a standard normal distribution.<br>\n",
    "\n",
    "The difference in the probability distribution from which the numbers are drawn can have a significant impact, especially in applications such as neural network initialization, where the choice of distribution can affect the learning process.<br>"
   ]
  },
  {
   "cell_type": "markdown",
   "id": "f0d498df-52a0-4bf8-8562-33e81fd3b6ac",
   "metadata": {},
   "source": [
    "<b>9. Write code to increase the dimension of the following array?<br>\n",
    "[[1, 2, 3, 4]<br>\n",
    "[5, 6, 7, 8],<br>\n",
    "[9, 10, 11, 12]]</b>"
   ]
  },
  {
   "cell_type": "markdown",
   "id": "e5d979e4-58b6-4a7b-9e0a-a036de6fb5cb",
   "metadata": {
    "tags": []
   },
   "source": [
    "\n",
    "To increase the dimension of the given array without using built-in functions and using an optimized technique, we can achieve this by iterating through the original array and constructing a new array with the desired dimension.<br>\n",
    "<pre>original_array = [\n",
    "    [1, 2, 3, 4],\n",
    "    [5, 6, 7, 8],\n",
    "    [9, 10, 11, 12]\n",
    "]\n",
    "\n",
    "# Determine the dimensions of the original array\n",
    "rows = len(original_array)\n",
    "cols = len(original_array[0])\n",
    "\n",
    "# Create a new 3D array with the desired dimensions\n",
    "new_array = [[[0 for _ in range(cols)] for _ in range(rows)]]\n",
    "\n",
    "# Copy the elements from the original 2D array to the new 3D array\n",
    "for i in range(rows):\n",
    "    for j in range(cols):\n",
    "        new_array[0][i][j] = original_array[i][j]\n",
    "\n",
    "print(new_array)\n",
    "</pre>\n",
    "In this code, we first determine the dimensions of the original 2D array. Then, we create a new 3D array with the desired dimensions and initialize it with zeros. Finally, we iterate through the original array and copy its elements to the new 3D array.<br>\n",
    "This code has a time complexity of O(m*n) where m and n are the number of rows and columns in the original array, respectively. This is because we iterate through each element of the original array to copy it into the new array.<br>\n",
    "The space complexity is also O(m*n) as we create a new array of the same size as the original array to store the elements.<br>"
   ]
  },
  {
   "cell_type": "markdown",
   "id": "e04c80a0-7ae0-4dee-98b2-ec9fe7968a71",
   "metadata": {},
   "source": [
    "<b>10. How to transpose the following array in NumPy?<br>\n",
    "[[1, 2, 3, 4]<br>\n",
    "[5, 6, 7, 8],<br>\n",
    "[9, 10, 11, 12]]</b>"
   ]
  },
  {
   "cell_type": "markdown",
   "id": "6237122b-345b-4100-b8c9-f16cacc02ed6",
   "metadata": {
    "tags": []
   },
   "source": [
    "\n",
    "Transposing an array without using built-in functions and using an optimized technique can be achieved by swapping the elements across the main diagonal of the array. In the case of a 2D array, this is essentially exchanging rows and columns. <br>\n",
    "<pre>original_array = [\n",
    "    [1, 2, 3, 4],\n",
    "    [5, 6, 7, 8],\n",
    "    [9, 10, 11, 12]\n",
    "]\n",
    "\n",
    "# Determine the dimensions of the original array\n",
    "rows = len(original_array)\n",
    "cols = len(original_array[0])\n",
    "\n",
    "# Initialize a new array with swapped dimensions\n",
    "transposed_array = [[0 for _ in range(rows)] for _ in range(cols)]\n",
    "\n",
    "# Transpose the array\n",
    "for i in range(rows):\n",
    "    for j in range(cols):\n",
    "        transposed_array[j][i] = original_array[i][j]\n",
    "\n",
    "print(transposed_array)\n",
    "</pre>\n",
    "In this code, we initialize a new array with swapped dimensions (transposed_array) and then use nested loops to transpose the original array by swapping elements across the main diagonal.<br>\n",
    "This code has a time complexity of O(m*n) where m and n are the number of rows and columns in the original array, respectively. This is because we iterate through each element of the original array to transpose it.<br>\n",
    "The space complexity is also O(m*n) as we create a new array of the same size as the original array to store the transposed elements.<br>\n",
    "This approach provides a simple and optimized way to transpose the array without using built-in functions, by directly swapping the elements across the main diagonal.<br>"
   ]
  },
  {
   "cell_type": "markdown",
   "id": "ae80ef3b-aca9-4101-93fd-9f4d2616dfae",
   "metadata": {},
   "source": [
    "<b>11. Consider the following matrix:<br>\n",
    "Matrix A2 [[1, 2, 3, 4] [5, 6, 7, 8],[9, 10, 11, 12]]<br>\n",
    "Matrix B2 [[1, 2, 3, 4] [5, 6, 7, 8],[9, 10, 11, 12]]<br>\n",
    "    <br>\n",
    "Perform the following operation using Python:<br>\n",
    "1. Index wise multiplication<br>\n",
    "2. Matix multiplication<br>\n",
    "3. Add both the matrices<br>\n",
    "4. Subtract matix B from A <br>\n",
    "5. Divide Matix B by A</b>"
   ]
  },
  {
   "cell_type": "markdown",
   "id": "2c75bdce-205d-4bc7-9d25-577cf2e24100",
   "metadata": {
    "tags": []
   },
   "source": [
    "<pre># Define the matrices\n",
    "matrix_A = [\n",
    "    [1, 2, 3, 4],\n",
    "    [5, 6, 7, 8],\n",
    "    [9, 10, 11, 12]\n",
    "]\n",
    "\n",
    "matrix_B = [\n",
    "    [1, 2, 3, 4],\n",
    "    [5, 6, 7, 8],\n",
    "    [9, 10, 11, 12]\n",
    "]\n",
    "\n",
    "# Index wise multiplication\n",
    "index_wise_multiplication = [[matrix_A[i][j] * matrix_B[i][j] for j in range(len(matrix_A[0]))] for i in range(len(matrix_A))]\n",
    "\n",
    "# Matrix multiplication\n",
    "matrix_multiplication = [[sum(a * b for a, b in zip(row, col)) for col in zip(*matrix_B)] for row in matrix_A]\n",
    "\n",
    "# Add both the matrices\n",
    "matrix_addition = [[matrix_A[i][j] + matrix_B[i][j] for j in range(len(matrix_A[0]))] for i in range(len(matrix_A))]\n",
    "\n",
    "# Subtract matrix B from A\n",
    "matrix_subtraction = [[matrix_A[i][j] - matrix_B[i][j] for j in range(len(matrix_A[0]))] for i in range(len(matrix_A))]\n",
    "\n",
    "# Divide Matrix B by A\n",
    "matrix_division = [[matrix_B[i][j] / matrix_A[i][j] for j in range(len(matrix_A[0]))] for i in range(len(matrix_A))]\n",
    "\n",
    "print(\"Index wise multiplication:\", index_wise_multiplication)\n",
    "print(\"Matrix multiplication:\", matrix_multiplication)\n",
    "print(\"Matrix addition:\", matrix_addition)\n",
    "print(\"Subtract matrix B from A:\", matrix_subtraction)\n",
    "print(\"Divide Matrix B by A:\", matrix_division)\n",
    "</pre>\n",
    "The index wise multiplication, matrix multiplication, addition, subtraction, and division operations are performed using nested list comprehensions to iterate through the elements of the matrices and perform the respective operations.<br>\n",
    "The time complexity for each operation is O(m*n) where m and n are the number of rows and columns in the matrices, as we iterate through each element to perform the operations.<br>\n",
    "The space complexity for each operation is also O(m*n) as we create new matrices of the same size as the original matrices to store the results of the operations.<br>\n",
    "This code provides a comprehensive solution to perform the specified operations on the given matrices using Python.<br>\n"
   ]
  },
  {
   "cell_type": "markdown",
   "id": "5dbc886a-cee0-468a-8174-8ce0e9f4a2f5",
   "metadata": {},
   "source": [
    "<b>12. Which function in Numpy can be used to swap the byte order of an array?</b>"
   ]
  },
  {
   "cell_type": "markdown",
   "id": "75714b39-0ef8-4da9-be2e-51627d560de4",
   "metadata": {
    "tags": []
   },
   "source": [
    "\n",
    "The function in NumPy that can be used to swap the byte order of an array is ndarray.byteswap(). This function toggles between low-endian and big-endian data representation by returning a byteswapped array, optionally swapped in-place.<br>\n",
    "Here's a brief overview of the ndarray.byteswap() function:<br>\n",
    "\n",
    "<pre>Syntax: ndarray.byteswap(inplace=False)\n",
    "Parameters:\n",
    "inplace: bool, optional. If True, swap bytes in-place. Default is False.\n",
    "Returns:\n",
    "out: ndarray. The byteswapped array. If inplace is True, this is a view to self.\n",
    "</pre>\n",
    "The ndarray.byteswap() function allows you to toggle between low-endian and big-endian data representations by returning a byteswapped array, which can be swapped in-place if desired. It does not work with string arrays.<br>\n",
    "You can use this function to swap the byte order of an array in NumPy, providing flexibility in handling different byte orderings and representations.<br>\n"
   ]
  },
  {
   "cell_type": "markdown",
   "id": "cff85a32-0cd0-4f16-9659-e55f2a184672",
   "metadata": {},
   "source": [
    "<b>13. What is the significance of the np.linalg.inv function?</b>"
   ]
  },
  {
   "cell_type": "markdown",
   "id": "86c147c6-b388-4430-aaab-a55a2a886a0d",
   "metadata": {
    "tags": []
   },
   "source": [
    "The np.linalg.inv function in NumPy is used to calculate the inverse of a matrix. The inverse of a matrix is such that if it is multiplied by the original matrix, it results in the identity matrix.\n",
    "<br>\n",
    "Here are the key points regarding the significance of the np.linalg.inv function:<br>\n",
    "Functionality: The np.linalg.inv function computes the (multiplicative) inverse of a matrix. Given a square matrix a, it returns the matrix ainv satisfying the condition dot(a, ainv) = dot(ainv, a) = eye(a.shape[0]), where eye(a.shape[0]) represents the identity matrix of the same shape as a.<br>\n",
    "Usage: The function takes a square matrix a as input and returns the (multiplicative) inverse of the matrix a.\n",
    "Exception Handling: The function raises a LinAlgError exception if the input matrix a is not square or if the inversion fails.<br>\n",
    "Example: An example of using the np.linalg.inv function is as follows:<br>\n",
    "<pre>import numpy as np\n",
    "a = np.array([[1., 2.], [3., 4.]])\n",
    "ainv = np.linalg.inv(a)\n",
    "print(np.allclose(np.dot(a, ainv), np.eye(2)))  # Output: True\n",
    "print(np.allclose(np.dot(ainv, a), np.eye(2))  # Output: True\n",
    "</pre>\n",
    "The np.linalg.inv function is a powerful tool for performing matrix operations and is particularly useful in various mathematical and scientific computations where the inverse of a matrix is required.<br>"
   ]
  },
  {
   "cell_type": "markdown",
   "id": "be239f04-6791-47f5-9927-2c700e2adb4f",
   "metadata": {},
   "source": [
    "<b>14. What does the np.reshape function do, and how is it used?</b>"
   ]
  },
  {
   "cell_type": "markdown",
   "id": "6e8d9eba-ccad-4037-95de-5cddeae218d4",
   "metadata": {
    "tags": []
   },
   "source": [
    "The np.reshape function in NumPy is used to change the shape of an array without changing its data. It allows you to modify the dimensions of the array, either by adding or removing dimensions, or by changing the number of elements in each dimension.<br>\n",
    "Here's a summary of the key points regarding the np.reshape function and its usage:<br>\n",
    "\n",
    "Functionality: The np.reshape function is used to modify the shape of an array without changing its data. It takes the original array as the first argument and the desired shape as the second argument, specified as a list or tuple. If the shape does not match the number of elements in the original array, a ValueError occurs.<br>\n",
    "\n",
    "Usage: The function can be used to convert a 1D array into a 2D array, or to change the dimensions of a multi-dimensional array. For example, reshaping a 1D array with 12 elements into a 2D array with 4 arrays, each with 3 elements, can be achieved using arr.reshape(4, 3).<br>\n",
    "\n",
    "Automatic Determination of Dimensions: The np.reshape function also allows for the automatic determination of dimensions. For example, reshaping an array with an unknown number of columns into a new array with 3 rows and an unknown number of columns can be achieved by passing the arguments (3, -1) to the np.reshape function. The -1 argument indicates that NumPy should automatically determine the number of columns based on the total number of elements in the array.<br>\n",
    "\n",
    "Ordering: The function also supports specifying the order of the reshaping process, such as C-contiguous or Fortran-contiguous order in memory, which affects the index ordering for fetching and placing the values into the output array.<br>\n",
    "The np.reshape function is a versatile tool for reshaping arrays in NumPy, providing flexibility in modifying the dimensions and structure of arrays to suit specific requirements.<br>"
   ]
  },
  {
   "cell_type": "markdown",
   "id": "c0aee51c-26d0-4baa-b08c-581551a39dc1",
   "metadata": {},
   "source": [
    "<b>15. What is broadcasting in Numpy?</b>"
   ]
  },
  {
   "cell_type": "markdown",
   "id": "09fb1558-5bdb-44ac-81a2-f16b0c1f4ac4",
   "metadata": {
    "tags": []
   },
   "source": [
    "Broadcasting in NumPy refers to the ability of NumPy to treat arrays with different shapes during arithmetic operations. This allows for element-wise operations on arrays of different shapes, making it possible to perform operations even when the shapes of the arrays are not exactly the same.<br>\n",
    "\n",
    "The key points about broadcasting in NumPy are as follows:<br>\n",
    "\n",
    "Handling Different Shapes: Broadcasting allows NumPy to perform arithmetic operations on arrays with different shapes. If the arrays have exactly the same shape, the operations are performed smoothly. However, if the dimensions of the arrays are dissimilar, element-to-element operations are not possible. Broadcasting allows the smaller array to be broadcast to the size of the larger array so that they have compatible shapes.<br>\n",
    "\n",
    "Rules for Broadcasting: Broadcasting is possible if certain rules are satisfied. These rules include the smaller array being prepended with '1' in its shape, and the dimensions of the arrays being compatible for element-wise operations.\n",
    "<br>\n",
    "Efficient Vectorized Operations: Broadcasting provides a means of vectorizing array operations, allowing for efficient algorithm implementations. It avoids making needless copies of data and leads to efficient computation by performing operations in C instead of Python.\n",
    "<br>\n",
    "Examples: Broadcasting is commonly used in various scenarios, such as performing arithmetic operations on arrays with different sizes, and in cases where the shapes of the arrays are not similar.\n",
    "<br>\n",
    "Overall, broadcasting in NumPy is a powerful feature that enables efficient and flexible handling of arrays with different shapes during arithmetic operations, providing a high level of flexibility and convenience in array computations.\n",
    "<br>\n"
   ]
  },
  {
   "cell_type": "code",
   "execution_count": null,
   "id": "07ed2762-a9d0-416c-9c13-9bdaa84fca92",
   "metadata": {},
   "outputs": [],
   "source": []
  }
 ],
 "metadata": {
  "kernelspec": {
   "display_name": "Python 3 (ipykernel)",
   "language": "python",
   "name": "python3"
  },
  "language_info": {
   "codemirror_mode": {
    "name": "ipython",
    "version": 3
   },
   "file_extension": ".py",
   "mimetype": "text/x-python",
   "name": "python",
   "nbconvert_exporter": "python",
   "pygments_lexer": "ipython3",
   "version": "3.10.8"
  }
 },
 "nbformat": 4,
 "nbformat_minor": 5
}
