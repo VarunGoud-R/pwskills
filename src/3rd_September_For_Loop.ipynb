{
 "cells": [
  {
   "cell_type": "markdown",
   "id": "68d3925b-1245-473c-8a24-c4bb558280d4",
   "metadata": {},
   "source": [
    "<h1>For Loop</h1>"
   ]
  },
  {
   "cell_type": "markdown",
   "id": "a4f24884-cf17-4a20-ab20-8d7bda9b783d",
   "metadata": {},
   "source": [
    "Basic Level"
   ]
  },
  {
   "cell_type": "code",
   "execution_count": 1,
   "id": "3cc24aef-03d2-468c-b1f0-f8cc36997714",
   "metadata": {},
   "outputs": [
    {
     "name": "stdout",
     "output_type": "stream",
     "text": [
      "1\n",
      "2\n",
      "3\n",
      "4\n",
      "5\n",
      "6\n",
      "7\n",
      "8\n",
      "9\n",
      "10\n"
     ]
    }
   ],
   "source": [
    "# Question 1\n",
    "for i in range(1,11):\n",
    "    print(i)"
   ]
  },
  {
   "cell_type": "code",
   "execution_count": 2,
   "id": "c9985a8d-8890-4cc6-aa81-57c727eab7a6",
   "metadata": {},
   "outputs": [
    {
     "name": "stdout",
     "output_type": "stream",
     "text": [
      "21\n"
     ]
    }
   ],
   "source": [
    "# Question 2\n",
    "n=6\n",
    "total=0\n",
    "for i in range(1,n+1):\n",
    "    total+=i\n",
    "print(total)"
   ]
  },
  {
   "cell_type": "code",
   "execution_count": 3,
   "id": "1d87469d-f376-4036-9f9b-24abe4046fd8",
   "metadata": {},
   "outputs": [
    {
     "name": "stdout",
     "output_type": "stream",
     "text": [
      "!dlroW ,olleH\n"
     ]
    }
   ],
   "source": [
    "# Question 3\n",
    "input_str = \"Hello, World!\"\n",
    "reversed_str = \"\"\n",
    "for char in input_str:\n",
    "    reversed_str = char + reversed_str\n",
    "print(reversed_str)\n"
   ]
  },
  {
   "cell_type": "code",
   "execution_count": 4,
   "id": "8e39deff-ed6e-4b33-91fd-bf4bc8697fe9",
   "metadata": {},
   "outputs": [
    {
     "name": "stdout",
     "output_type": "stream",
     "text": [
      "720\n"
     ]
    }
   ],
   "source": [
    "# Question 4\n",
    "n=6\n",
    "f=1\n",
    "for i in range(1,n+1):\n",
    "    f*=i\n",
    "print(f)"
   ]
  },
  {
   "cell_type": "code",
   "execution_count": 5,
   "id": "7a24a02c-a5e0-409e-b323-83698ce3db63",
   "metadata": {},
   "outputs": [
    {
     "name": "stdout",
     "output_type": "stream",
     "text": [
      "8 * 1 = 8\n",
      "8 * 2 = 16\n",
      "8 * 3 = 24\n",
      "8 * 4 = 32\n",
      "8 * 5 = 40\n",
      "8 * 6 = 48\n",
      "8 * 7 = 56\n",
      "8 * 8 = 64\n",
      "8 * 9 = 72\n",
      "8 * 10 = 80\n"
     ]
    }
   ],
   "source": [
    "# Question 5\n",
    "n=8\n",
    "for i in range(1,11):\n",
    "    print(f\"{n} * {i} = {n*i}\")"
   ]
  },
  {
   "cell_type": "code",
   "execution_count": 6,
   "id": "3c81979c-3567-49be-8e94-1a253a884e45",
   "metadata": {},
   "outputs": [
    {
     "name": "stdout",
     "output_type": "stream",
     "text": [
      "No. of even numbers:  4\n",
      "No. of odd numbers:  3\n"
     ]
    }
   ],
   "source": [
    "# Question 6\n",
    "l=[3,9,6,2,8,1,2]\n",
    "e,o=0,0\n",
    "for i in l:\n",
    "    if i%2==0:\n",
    "        e+=1\n",
    "    else:\n",
    "        o+=1\n",
    "print(\"No. of even numbers: \",e)\n",
    "print(\"No. of odd numbers: \",o)"
   ]
  },
  {
   "cell_type": "code",
   "execution_count": 7,
   "id": "6e4a6ade-e92a-46cc-839f-099d2fcdd136",
   "metadata": {},
   "outputs": [
    {
     "name": "stdout",
     "output_type": "stream",
     "text": [
      "Square of  1  is  1\n",
      "Square of  2  is  4\n",
      "Square of  3  is  9\n",
      "Square of  4  is  16\n",
      "Square of  5  is  25\n"
     ]
    }
   ],
   "source": [
    "# Question 7\n",
    "n=5\n",
    "for i in range(1,n+1):\n",
    "    print(\"Square of \",i,\" is \",i*i)"
   ]
  },
  {
   "cell_type": "code",
   "execution_count": 8,
   "id": "8a59186e-de78-48d8-b3e8-bced3fc7b2f2",
   "metadata": {},
   "outputs": [
    {
     "name": "stdout",
     "output_type": "stream",
     "text": [
      "5\n"
     ]
    }
   ],
   "source": [
    "# Question 8\n",
    "s=\"Varun\"\n",
    "c=0\n",
    "for i in s:\n",
    "    c+=1\n",
    "print(c)"
   ]
  },
  {
   "cell_type": "code",
   "execution_count": 9,
   "id": "249ce043-2a3f-445d-9406-970411fd2459",
   "metadata": {},
   "outputs": [
    {
     "name": "stdout",
     "output_type": "stream",
     "text": [
      "6.0\n"
     ]
    }
   ],
   "source": [
    "# Question 9\n",
    "s=[1,6,4,9,8,4,10]\n",
    "av=0\n",
    "for i in s:\n",
    "    av+=i\n",
    "print(av/len(s))"
   ]
  },
  {
   "cell_type": "code",
   "execution_count": 10,
   "id": "bb47b02c-86bb-45d2-a630-c4ef70c7d2f2",
   "metadata": {},
   "outputs": [
    {
     "name": "stdout",
     "output_type": "stream",
     "text": [
      "0\n",
      "1\n",
      "1\n",
      "2\n",
      "3\n",
      "5\n",
      "8\n"
     ]
    }
   ],
   "source": [
    "# Question 10\n",
    "n=7\n",
    "a,b=0,1\n",
    "print(a)\n",
    "print(b)\n",
    "for i in range(n-2):\n",
    "    c=a+b\n",
    "    a,b=b,c\n",
    "    print(c)"
   ]
  },
  {
   "cell_type": "markdown",
   "id": "b870efe4-17c8-4b10-9ec9-808835de5e5b",
   "metadata": {},
   "source": [
    "Intermediate Level"
   ]
  },
  {
   "cell_type": "code",
   "execution_count": 11,
   "id": "2c6b1808-bc78-44cb-9acb-09c87d08e031",
   "metadata": {
    "tags": []
   },
   "outputs": [
    {
     "name": "stdout",
     "output_type": "stream",
     "text": [
      "The list contains duplicates.\n"
     ]
    }
   ],
   "source": [
    "# Question 11\n",
    "def check_duplicates(lis):\n",
    "      # Create a set to store the elements of the list.\n",
    "    seen = set(lis)\n",
    "    # print(seen)\n",
    "\n",
    "      # Iterate through the list and check if each element is already in the set.\n",
    "    for element in lis:\n",
    "        if element in seen:\n",
    "            return True\n",
    "\n",
    "      # If the loop terminates without returning True, then the list does not contain any duplicates.\n",
    "    return False\n",
    "\n",
    "lis = [1, 2, 3, 4, 5, 2, 3]\n",
    "\n",
    "# Check if the list contains any duplicates.\n",
    "has_duplicates = check_duplicates(lis)\n",
    "\n",
    "if has_duplicates:\n",
    "    print(\"The list contains duplicates.\")\n",
    "else:\n",
    "    print(\"The list does not contain any duplicates.\")"
   ]
  },
  {
   "cell_type": "code",
   "execution_count": 12,
   "id": "36d0d3f7-5d8a-4d40-868d-1f7b1e5372ad",
   "metadata": {},
   "outputs": [
    {
     "name": "stdout",
     "output_type": "stream",
     "text": [
      "Prime numbers between 90 and 120 are:\n",
      "97\n",
      "101\n",
      "103\n",
      "107\n",
      "109\n",
      "113\n"
     ]
    }
   ],
   "source": [
    "# Question 12\n",
    "lower = 90\n",
    "upper = 120\n",
    "\n",
    "print(\"Prime numbers between\", lower, \"and\", upper, \"are:\")\n",
    "\n",
    "for num in range(lower, upper + 1):\n",
    "    # all prime numbers are greater than 1\n",
    "    if num > 1:\n",
    "        for i in range(2, num):\n",
    "            if (num % i) == 0:\n",
    "                break\n",
    "        else:\n",
    "            print(num)"
   ]
  },
  {
   "cell_type": "code",
   "execution_count": 13,
   "id": "7367d163-ce6f-4574-95bb-f63174621924",
   "metadata": {},
   "outputs": [
    {
     "name": "stdout",
     "output_type": "stream",
     "text": [
      "3\n"
     ]
    }
   ],
   "source": [
    "# Question 13\n",
    "def count_vowels(string):\n",
    "  count = 0\n",
    "  vowels = set(\"aeiou\")\n",
    "  for c in string:\n",
    "    if c in vowels:\n",
    "      count += 1\n",
    "  return count\n",
    "string = \"Hello, world!\"\n",
    "print(count_vowels(string))"
   ]
  },
  {
   "cell_type": "code",
   "execution_count": 14,
   "id": "5cd9057f-cdb3-4012-b6f2-8a0ac436179b",
   "metadata": {},
   "outputs": [
    {
     "name": "stdout",
     "output_type": "stream",
     "text": [
      "6\n"
     ]
    }
   ],
   "source": [
    "# Question 14\n",
    "def find_max_element(nested_list):\n",
    "  max_element = nested_list[0][0]\n",
    "  for row in nested_list:\n",
    "    for element in row:\n",
    "      if element > max_element:\n",
    "        max_element = element\n",
    "  return max_element\n",
    "nested_list = [[1, 2, 3], [4, 5, 6]]\n",
    "\n",
    "max_element = find_max_element(nested_list)\n",
    "print(max_element)"
   ]
  },
  {
   "cell_type": "code",
   "execution_count": 15,
   "id": "70bd1c09-2bcf-4eef-a24e-57ab36158f4a",
   "metadata": {},
   "outputs": [
    {
     "name": "stdout",
     "output_type": "stream",
     "text": [
      "[1, 2, 4, 5, 6]\n"
     ]
    }
   ],
   "source": [
    "# Question 15\n",
    "def remove_element(lis, element):\n",
    "  # Create a new list to store the elements of the original list that do not match the element to be removed.\n",
    "  new_list = []\n",
    "  for item in lis:\n",
    "    if item != element:\n",
    "      new_list.append(item)\n",
    "\n",
    "  # Return the new list.\n",
    "  return new_list\n",
    "lis = [1, 2, 3, 4, 5, 6]\n",
    "new_list = remove_element(lis, 3)\n",
    "print(new_list)"
   ]
  },
  {
   "cell_type": "code",
   "execution_count": 16,
   "id": "23d715b1-fe8c-4f84-bc52-28f9d1b6f83e",
   "metadata": {},
   "outputs": [
    {
     "name": "stdout",
     "output_type": "stream",
     "text": [
      "1 2 3 4 5 \n",
      "2 4 6 8 10 \n",
      "3 6 9 12 15 \n",
      "4 8 12 16 20 \n",
      "5 10 15 20 25 \n"
     ]
    }
   ],
   "source": [
    "# Question 16\n",
    "# Define the number of rows in the multiplication table.\n",
    "rows = 5\n",
    "\n",
    "# Iterate over the rows.\n",
    "for i in range(1, rows + 1):\n",
    "\n",
    "    # Iterate over the columns.\n",
    "    for j in range(1, rows + 1):\n",
    "\n",
    "        # Print the product of the current row and column.\n",
    "        print(i * j, end=\" \")\n",
    "\n",
    "    # Print a newline character.\n",
    "    print()"
   ]
  },
  {
   "cell_type": "code",
   "execution_count": 17,
   "id": "702d89ea-f219-4380-a4b4-5b884bb39ea9",
   "metadata": {},
   "outputs": [
    {
     "name": "stdout",
     "output_type": "stream",
     "text": [
      "[25.0, 31.11111111111111, 37.22222222222222]\n"
     ]
    }
   ],
   "source": [
    "# Question 17\n",
    "fahrenheit_temperatures = [77, 88, 99]\n",
    "\n",
    "# Create an empty list to store the converted Celsius temperatures.\n",
    "celsius_temperatures = []\n",
    "\n",
    "# Loop through the list of Fahrenheit temperatures.\n",
    "for fahrenheit_temperature in fahrenheit_temperatures:\n",
    "  # Convert the Fahrenheit temperature to Celsius.\n",
    "  celsius_temperature = (fahrenheit_temperature - 32) * 5 / 9\n",
    "\n",
    "  # Add the converted Celsius temperature to the list of Celsius temperatures.\n",
    "  celsius_temperatures.append(celsius_temperature)\n",
    "\n",
    "# Print the list of Celsius temperatures.\n",
    "print(celsius_temperatures)"
   ]
  },
  {
   "cell_type": "code",
   "execution_count": 18,
   "id": "92a9b5f2-7d25-4192-91a0-9818dfc1e651",
   "metadata": {},
   "outputs": [
    {
     "name": "stdout",
     "output_type": "stream",
     "text": [
      "The common elements are: [3, 5]\n"
     ]
    }
   ],
   "source": [
    "# Question 18\n",
    "# Define two lists\n",
    "list1 = [1, 2, 3, 4, 5]\n",
    "list2 = [3, 5, 7, 9]\n",
    "\n",
    "# Create a list to store the common elements\n",
    "common_elements = []\n",
    "\n",
    "# Iterate through the first list\n",
    "for element in list1:\n",
    "  # Check if the element is also in the second list\n",
    "  if element in list2:\n",
    "    # Add the element to the list of common elements\n",
    "    common_elements.append(element)\n",
    "\n",
    "# Print the list of common elements\n",
    "print(\"The common elements are:\", common_elements)"
   ]
  },
  {
   "cell_type": "code",
   "execution_count": 19,
   "id": "ecbbacf3-5c4a-490f-889d-2641510312b1",
   "metadata": {},
   "outputs": [
    {
     "name": "stdout",
     "output_type": "stream",
     "text": [
      "*\n",
      "**\n",
      "***\n",
      "****\n",
      "*****\n"
     ]
    }
   ],
   "source": [
    "# Question 19\n",
    "x=5\n",
    "for i in range(x):\n",
    "    for j in range(i+1):\n",
    "        print(\"*\",end='')\n",
    "    print(\"\")"
   ]
  },
  {
   "cell_type": "code",
   "execution_count": 20,
   "id": "57373571-c01c-401d-b650-c6a590207f19",
   "metadata": {},
   "outputs": [
    {
     "name": "stdout",
     "output_type": "stream",
     "text": [
      "GCD of 36 and 60 is 12\n"
     ]
    }
   ],
   "source": [
    "# Question 20\n",
    "num1 = 36\n",
    "num2 = 60\n",
    "gcd = 1\n",
    "\n",
    "for i in range(1, min(num1, num2)):\n",
    "    if num1 % i == 0 and num2 % i == 0:\n",
    "        gcd = i\n",
    "print(\"GCD of\", num1, \"and\", num2, \"is\", gcd)"
   ]
  },
  {
   "cell_type": "markdown",
   "id": "a617bc29-541a-47e9-9a1e-5a9be162b96f",
   "metadata": {},
   "source": [
    "Advanced Level"
   ]
  },
  {
   "cell_type": "code",
   "execution_count": 21,
   "id": "d7da7865-74dd-43f5-bb66-0dd1a2e257c6",
   "metadata": {},
   "outputs": [
    {
     "name": "stdout",
     "output_type": "stream",
     "text": [
      "The original list is : [12, 67, 98, 34]\n",
      "List Integer Summation : [3, 13, 17, 7]\n"
     ]
    }
   ],
   "source": [
    "# Question 21\n",
    "test_list = [12, 67, 98, 34]\n",
    "\n",
    "# printing original list\n",
    "print(\"The original list is : \" + str(test_list))\n",
    "\n",
    "# Sum of number digits in List\n",
    "# using sum() + list comprehension\n",
    "res = list(map(lambda ele: sum(int(sub) for sub in str(ele)), test_list))\n",
    "# printing result\n",
    "print (\"List Integer Summation : \" + str(res))\n"
   ]
  },
  {
   "cell_type": "code",
   "execution_count": 22,
   "id": "7a87ed61-46c8-45d8-a205-9b80320995a9",
   "metadata": {},
   "outputs": [
    {
     "data": {
      "text/plain": [
       "[(2, 5)]"
      ]
     },
     "execution_count": 22,
     "metadata": {},
     "output_type": "execute_result"
    }
   ],
   "source": [
    "# Question 22\n",
    "from math import log\n",
    "\n",
    "def prime_factors(n):\n",
    "    return [(prime, max(power for power in range(1, int(log(n, prime))+1)\n",
    "                              if n % prime**power == 0))\n",
    "            for prime in range(2, n+1) if n % prime == 0 and is_prime(prime)]\n",
    "def is_prime(n):\n",
    "    return n > 1 and all(n % i != 0 for i in range(2, n))\n",
    "\n",
    "prime_factors(32)"
   ]
  },
  {
   "cell_type": "code",
   "execution_count": 23,
   "id": "4ac0d23b-2428-4809-ae0e-c88d2d64abe1",
   "metadata": {},
   "outputs": [
    {
     "name": "stdout",
     "output_type": "stream",
     "text": [
      "[1, 2, 3, 4, 5]\n"
     ]
    }
   ],
   "source": [
    "# Question 23\n",
    "list1 = [1, 2, 3, 1, 2, 4, 5]\n",
    "unique_elements = []\n",
    "\n",
    "[unique_elements.append(element) for element in list1 if element not in unique_elements]\n",
    "\n",
    "print(unique_elements)"
   ]
  },
  {
   "cell_type": "code",
   "execution_count": 24,
   "id": "4f3d3568-3379-4d4d-a715-7b661ee2358e",
   "metadata": {},
   "outputs": [
    {
     "name": "stdout",
     "output_type": "stream",
     "text": [
      "[101, 111, 121, 131, 141, 151, 161, 171, 181, 191, 202, 212, 222, 232, 242, 252, 262, 272, 282, 292, 303, 313, 323, 333, 343, 353, 363, 373, 383, 393, 404, 414, 424, 434, 444, 454, 464, 474, 484, 494, 505, 515, 525, 535, 545, 555, 565, 575, 585, 595, 606, 616, 626, 636, 646, 656, 666, 676, 686, 696, 707, 717, 727, 737, 747, 757, 767, 777, 787, 797, 808, 818, 828, 838, 848, 858, 868, 878, 888, 898, 909, 919, 929, 939, 949, 959, 969, 979, 989, 999]\n"
     ]
    }
   ],
   "source": [
    "# Question 24\n",
    "lst = [int(\"%d%d%d\" % (x,y,x)) for x in range(1,10) for y in range(10)]\n",
    "print(lst)"
   ]
  },
  {
   "cell_type": "code",
   "execution_count": 25,
   "id": "d99c0a29-b39a-4688-bde0-54c3310f5b34",
   "metadata": {},
   "outputs": [
    {
     "name": "stdout",
     "output_type": "stream",
     "text": [
      "Flatten List:  [3, 4, 5, 7, 8, 9, 10]\n"
     ]
    }
   ],
   "source": [
    "# Question 25\n",
    "nested_lists = [[3, 4, 5],[ 7, 8, 9, 10]]\n",
    "\n",
    "#flatten the lists\n",
    "flat_list = [y for x in nested_lists for y in x]\n",
    "print(\"Flatten List: \",flat_list)"
   ]
  },
  {
   "cell_type": "code",
   "execution_count": 26,
   "id": "a545e5d8-ea53-4550-8c7d-956610a5635e",
   "metadata": {},
   "outputs": [
    {
     "name": "stdout",
     "output_type": "stream",
     "text": [
      "[25, 30]\n"
     ]
    }
   ],
   "source": [
    "# Question 26\n",
    "x = 10\n",
    "odd_sum,even_sum=0,0\n",
    "odd_sum += sum([x for x in range(1,x+1) if x % 2 == 1])\n",
    "even_sum += sum([x for x in range(1,x+1) if x % 2 == 0])\n",
    "re=[]\n",
    "re.append(odd_sum)\n",
    "re.append(even_sum)\n",
    "print(re)"
   ]
  },
  {
   "cell_type": "code",
   "execution_count": 27,
   "id": "7479e687-6f6d-46ce-a4d6-8a29fca3722b",
   "metadata": {},
   "outputs": [
    {
     "name": "stdout",
     "output_type": "stream",
     "text": [
      "[1, 9, 25, 49, 81]\n"
     ]
    }
   ],
   "source": [
    "# Question 27\n",
    "# Create a list of odd numbers between 1 and 10.\n",
    "odd_numbers = [x for x in range(1, 10) if x % 2 == 1]\n",
    "\n",
    "# Square each number in the list.\n",
    "squares = [x ** 2 for x in odd_numbers]\n",
    "\n",
    "# Print the list of squares.\n",
    "print(squares)"
   ]
  },
  {
   "cell_type": "code",
   "execution_count": 28,
   "id": "a9bbd92c-c74a-4535-8a07-83fdd510e088",
   "metadata": {},
   "outputs": [
    {
     "name": "stdout",
     "output_type": "stream",
     "text": [
      "{'a': 1, 'b': 2, 'c': 3}\n"
     ]
    }
   ],
   "source": [
    "# Question 28\n",
    "# Create two lists\n",
    "keys = ['a', 'b', 'c']\n",
    "values = [1, 2, 3]\n",
    "\n",
    "# Use list comprehension to combine the lists into a dictionary\n",
    "dictionary = {key: value for key, value in zip(keys, values)}\n",
    "\n",
    "# Print the dictionary\n",
    "print(dictionary)"
   ]
  },
  {
   "cell_type": "code",
   "execution_count": 29,
   "id": "028cb353-ef5b-4599-ba14-8b6eae40dff1",
   "metadata": {},
   "outputs": [
    {
     "name": "stdout",
     "output_type": "stream",
     "text": [
      "['e', 'o', 'o']\n"
     ]
    }
   ],
   "source": [
    "# Question 29\n",
    "def extract_vowels(string):\n",
    "    vowels = ['a', 'e', 'i', 'o', 'u']\n",
    "    return [c for c in string if c in vowels]\n",
    "string = \"Hello, world!\"\n",
    "\n",
    "vowels = extract_vowels(string)\n",
    "print(vowels)"
   ]
  },
  {
   "cell_type": "code",
   "execution_count": 30,
   "id": "1f1a2556-f75c-4c86-95f7-23b293e1b37d",
   "metadata": {},
   "outputs": [
    {
     "name": "stdout",
     "output_type": "stream",
     "text": [
      "['1', '2', '3', '4', '5', '6', '7', '8', '9']\n"
     ]
    }
   ],
   "source": [
    "# Question 30\n",
    "list_of_strings = [\"123abc\", \"def456\", \"ghi789\"]\n",
    "\n",
    "# Remove all non-numeric characters from the list.\n",
    "filtered_list = [i for s in list_of_strings for i in s if i.isnumeric()]\n",
    "\n",
    "# Print the filtered list.\n",
    "print(filtered_list)"
   ]
  },
  {
   "cell_type": "markdown",
   "id": "9a64747b-d6a6-462b-ab3d-c299626a3cc5",
   "metadata": {},
   "source": [
    "Challenge level"
   ]
  },
  {
   "cell_type": "code",
   "execution_count": 31,
   "id": "9dad87b4-3c07-454b-b71b-6bfcb00526d1",
   "metadata": {},
   "outputs": [
    {
     "name": "stdout",
     "output_type": "stream",
     "text": [
      "2\n",
      "3\n",
      "5\n",
      "7\n",
      "11\n",
      "13\n",
      "17\n",
      "19\n",
      "23\n",
      "29\n",
      "31\n",
      "37\n",
      "41\n",
      "43\n",
      "47\n",
      "None\n"
     ]
    }
   ],
   "source": [
    "# Question 31\n",
    "def prime_eratosthenes(n):\n",
    "    prime_list = []\n",
    "    for i in range(2, n+1):\n",
    "        if i not in prime_list:\n",
    "            print (i)\n",
    "            for j in range(i*i, n+1, i):\n",
    "                prime_list.append(j)\n",
    "\n",
    "print(prime_eratosthenes(50))"
   ]
  },
  {
   "cell_type": "code",
   "execution_count": 32,
   "id": "392890dd-81c8-45d6-9c85-6f84a9818d7f",
   "metadata": {},
   "outputs": [
    {
     "data": {
      "text/plain": [
       "[(3, 4, 5), (6, 8, 10)]"
      ]
     },
     "execution_count": 32,
     "metadata": {},
     "output_type": "execute_result"
    }
   ],
   "source": [
    "# Question 32\n",
    "def generate_pythagorean_triples(limit):\n",
    "    return [(a, b, c)\n",
    "          for a in range(1, limit + 1)\n",
    "          for b in range(a, limit + 1)\n",
    "          for c in range(b, limit + 1)\n",
    "          if a ** 2 + b ** 2 == c ** 2]\n",
    "generate_pythagorean_triples(10)"
   ]
  },
  {
   "cell_type": "code",
   "execution_count": 33,
   "id": "5a8eae89-5efe-499e-84e0-57769deb0769",
   "metadata": {},
   "outputs": [
    {
     "data": {
      "text/plain": [
       "[[1, 2], [1, 3], [2, 2], [2, 3], [3, 2], [3, 3]]"
      ]
     },
     "execution_count": 33,
     "metadata": {},
     "output_type": "execute_result"
    }
   ],
   "source": [
    "# Question 33\n",
    "def generate_combinations(list1, list2):\n",
    "  combinations = [[item1, item2] for item1 in list1 for item2 in list2]\n",
    "  # for item1 in list1:\n",
    "  #   for item2 in list2:\n",
    "  #     combinations.append([item1, item2])\n",
    "  return combinations\n",
    "generate_combinations([1,2,3],[2,3])"
   ]
  },
  {
   "cell_type": "code",
   "execution_count": 34,
   "id": "e0cdfb83-b459-460f-bd0d-c560463bb229",
   "metadata": {},
   "outputs": [
    {
     "data": {
      "text/plain": [
       "{'mean': 3.0, 'median': 3, 'mode': 5}"
      ]
     },
     "execution_count": 34,
     "metadata": {},
     "output_type": "execute_result"
    }
   ],
   "source": [
    "# Question 34\n",
    "def statistics(numbers):\n",
    "  mean = sum(numbers) / len(numbers)\n",
    "  median = sorted(numbers)[len(numbers) // 2]\n",
    "  # median = [numbers[i//2] if i%2!=0 else (numbers[i//2]+numbers[i//2-1])/2 for i in numbers]\n",
    "  # mode = max(numbers, key=numbers.count)\n",
    "  mode = [i for i in numbers if i == max(numbers)]\n",
    "\n",
    "  return {\n",
    "      \"mean\": mean,\n",
    "      \"median\": median,\n",
    "      \"mode\": mode[0],\n",
    "  }\n",
    "\n",
    "numbers = [1, 2, 3, 4, 5]\n",
    "\n",
    "statistics(numbers)"
   ]
  },
  {
   "cell_type": "code",
   "execution_count": 35,
   "id": "9cfb631a-e41d-411b-b9fb-7f86cfaed416",
   "metadata": {},
   "outputs": [
    {
     "data": {
      "text/plain": [
       "[[1], [1, 1], [1, 2, 1], [1, 3, 3, 1], [1, 4, 6, 4, 1]]"
      ]
     },
     "execution_count": 35,
     "metadata": {},
     "output_type": "execute_result"
    }
   ],
   "source": [
    "# Question 35\n",
    "def pascal_triangle(n):\n",
    "  if n <= 0:\n",
    "    return []\n",
    "  else:\n",
    "    # triangle = [[1] for _ in range(n)]\n",
    "    # for i in range(1, n):\n",
    "    #   for j in range(1, i):\n",
    "    #     triangle[i][j] = triangle[i - 1][j] + triangle[i - 1][j - 1]\n",
    "    # # triangle = [[].append(triangle[-1][j]) for i in range(1,n) for j in range(1,i)]\n",
    "    triangle = [[1]]\n",
    "    for i in range(1, n):\n",
    "      row = [1]\n",
    "      for j in range(1, i):\n",
    "        row.append(triangle[-1][j] + triangle[-1][j - 1])\n",
    "      row.append(1)\n",
    "      triangle.append(row)\n",
    "    return triangle\n",
    "\n",
    "pascal_triangle(5)"
   ]
  },
  {
   "cell_type": "code",
   "execution_count": 52,
   "id": "e6a25492-b72f-405a-b609-065047ea631a",
   "metadata": {},
   "outputs": [
    {
     "name": "stdout",
     "output_type": "stream",
     "text": [
      "3\n"
     ]
    }
   ],
   "source": [
    "# Question 36\n",
    "import math\n",
    "\n",
    "def sum_of_digits_factorial(n):\n",
    "    fact = [math.factorial(i) for i in n]\n",
    "    # fact = [fact[-1] for i in n if not fact.append(i*fact[-1] if fact else 1)]\n",
    "    # print(fact)\n",
    "\t# fact = 1\n",
    "\t# for i in range(2, n+1):\n",
    "\t# \tfact *= i\n",
    "    sum_of_digits, sod = 0, 0\n",
    "    for digit in str(fact[0]):\n",
    "        sum_of_digits += int(digit)\n",
    "    # sum_of_digits = [sod := sod + int(d) for num in fact for d in str(num)]\n",
    "    # sum_of_digits = [i for i in ]\n",
    "    return sum_of_digits\n",
    "\n",
    "print(sum_of_digits_factorial([5]))"
   ]
  },
  {
   "cell_type": "code",
   "execution_count": 69,
   "id": "393ce310-6993-47fd-a63c-e15ee2b464db",
   "metadata": {},
   "outputs": [
    {
     "name": "stdout",
     "output_type": "stream",
     "text": [
      "statement\n"
     ]
    }
   ],
   "source": [
    "# Question 37\n",
    "s=\"This is my statement\"\n",
    "longest_word=max(s.split(), key=len)\n",
    "longest_word = [word for word in s.split() if len(word) == len(max(s.split(), key=len))]\n",
    "print(longest_word[0])"
   ]
  },
  {
   "cell_type": "code",
   "execution_count": 70,
   "id": "1da233ab-d765-4e75-8340-45592726529e",
   "metadata": {},
   "outputs": [
    {
     "name": "stdout",
     "output_type": "stream",
     "text": [
      "['guava', 'pineapple', 'mandarin orange']\n"
     ]
    }
   ],
   "source": [
    "# Question 38\n",
    "import re\n",
    "\n",
    "fruits = [\"mango\", \"kiwi\", \"strawberry\", \"guava\", \"pineapple\", \"mandarin orange\"]\n",
    "results = [i for i in fruits if len(re.sub(r\"[^aeiouAEIOU]\", \"\", i)) > 2]\n",
    "print(results)"
   ]
  },
  {
   "cell_type": "code",
   "execution_count": 73,
   "id": "78940d34-f8f5-4ac0-bff3-5050334a28cf",
   "metadata": {},
   "outputs": [
    {
     "name": "stdout",
     "output_type": "stream",
     "text": [
      "[1, 2, 3, 4, 5, 6, 7, 8, 9, 1, 2, 3, 4, 5, 6, 7, 8, 9, 10, 2, 3, 4, 5, 6, 7, 8, 9, 10, 11, 3, 4, 5, 6, 7, 8, 9, 10, 11, 12, 4, 5, 6, 7, 8, 9, 10, 11, 12, 13, 5, 6, 7, 8, 9, 10, 11, 12, 13, 14, 6, 7, 8, 9, 10, 11, 12, 13, 14, 15, 7, 8, 9, 10, 11, 12, 13, 14, 15, 16, 8, 9, 10, 11, 12, 13, 14, 15, 16, 17, 9, 10, 11, 12, 13, 14, 15, 16, 17, 18, 1, 2, 3, 4, 5, 6, 7, 8, 9, 10, 2, 3, 4, 5, 6, 7, 8, 9, 10, 11, 3, 4, 5, 6, 7, 8, 9, 10, 11, 12, 4, 5, 6, 7, 8, 9, 10, 11, 12, 13, 5, 6, 7, 8, 9, 10, 11, 12, 13, 14, 6, 7, 8, 9, 10, 11, 12, 13, 14, 15, 7, 8, 9, 10, 11, 12, 13, 14, 15, 16, 8, 9, 10, 11, 12, 13, 14, 15, 16, 17, 9, 10, 11, 12, 13, 14, 15, 16, 17, 18, 10, 11, 12, 13, 14, 15, 16, 17, 18, 19, 2, 3, 4, 5, 6, 7, 8, 9, 10, 11, 3, 4, 5, 6, 7, 8, 9, 10, 11, 12, 4, 5, 6, 7, 8, 9, 10, 11, 12, 13, 5, 6, 7, 8, 9, 10, 11, 12, 13, 14, 6, 7, 8, 9, 10, 11, 12, 13, 14, 15, 7, 8, 9, 10, 11, 12, 13, 14, 15, 16, 8, 9, 10, 11, 12, 13, 14, 15, 16, 17, 9, 10, 11, 12, 13, 14, 15, 16, 17, 18, 10, 11, 12, 13, 14, 15, 16, 17, 18, 19, 11, 12, 13, 14, 15, 16, 17, 18, 19, 20, 3, 4, 5, 6, 7, 8, 9, 10, 11, 12, 4, 5, 6, 7, 8, 9, 10, 11, 12, 13, 5, 6, 7, 8, 9, 10, 11, 12, 13, 14, 6, 7, 8, 9, 10, 11, 12, 13, 14, 15, 7, 8, 9, 10, 11, 12, 13, 14, 15, 16, 8, 9, 10, 11, 12, 13, 14, 15, 16, 17, 9, 10, 11, 12, 13, 14, 15, 16, 17, 18, 10, 11, 12, 13, 14, 15, 16, 17, 18, 19, 11, 12, 13, 14, 15, 16, 17, 18, 19, 20, 12, 13, 14, 15, 16, 17, 18, 19, 20, 21, 4, 5, 6, 7, 8, 9, 10, 11, 12, 13, 5, 6, 7, 8, 9, 10, 11, 12, 13, 14, 6, 7, 8, 9, 10, 11, 12, 13, 14, 15, 7, 8, 9, 10, 11, 12, 13, 14, 15, 16, 8, 9, 10, 11, 12, 13, 14, 15, 16, 17, 9, 10, 11, 12, 13, 14, 15, 16, 17, 18, 10, 11, 12, 13, 14, 15, 16, 17, 18, 19, 11, 12, 13, 14, 15, 16, 17, 18, 19, 20, 12, 13, 14, 15, 16, 17, 18, 19, 20, 21, 13, 14, 15, 16, 17, 18, 19, 20, 21, 22, 5, 6, 7, 8, 9, 10, 11, 12, 13, 14, 6, 7, 8, 9, 10, 11, 12, 13, 14, 15, 7, 8, 9, 10, 11, 12, 13, 14, 15, 16, 8, 9, 10, 11, 12, 13, 14, 15, 16, 17, 9, 10, 11, 12, 13, 14, 15, 16, 17, 18, 10, 11, 12, 13, 14, 15, 16, 17, 18, 19, 11, 12, 13, 14, 15, 16, 17, 18, 19, 20, 12, 13, 14, 15, 16, 17, 18, 19, 20, 21, 13, 14, 15, 16, 17, 18, 19, 20, 21, 22, 14, 15, 16, 17, 18, 19, 20, 21, 22, 23, 6, 7, 8, 9, 10, 11, 12, 13, 14, 15, 7, 8, 9, 10, 11, 12, 13, 14, 15, 16, 8, 9, 10, 11, 12, 13, 14, 15, 16, 17, 9, 10, 11, 12, 13, 14, 15, 16, 17, 18, 10, 11, 12, 13, 14, 15, 16, 17, 18, 19, 11, 12, 13, 14, 15, 16, 17, 18, 19, 20, 12, 13, 14, 15, 16, 17, 18, 19, 20, 21, 13, 14, 15, 16, 17, 18, 19, 20, 21, 22, 14, 15, 16, 17, 18, 19, 20, 21, 22, 23, 15, 16, 17, 18, 19, 20, 21, 22, 23, 24, 7, 8, 9, 10, 11, 12, 13, 14, 15, 16, 8, 9, 10, 11, 12, 13, 14, 15, 16, 17, 9, 10, 11, 12, 13, 14, 15, 16, 17, 18, 10, 11, 12, 13, 14, 15, 16, 17, 18, 19, 11, 12, 13, 14, 15, 16, 17, 18, 19, 20, 12, 13, 14, 15, 16, 17, 18, 19, 20, 21, 13, 14, 15, 16, 17, 18, 19, 20, 21, 22, 14, 15, 16, 17, 18, 19, 20, 21, 22, 23, 15, 16, 17, 18, 19, 20, 21, 22, 23, 24, 16, 17, 18, 19, 20, 21, 22, 23, 24, 25, 8, 9, 10, 11, 12, 13, 14, 15, 16, 17, 9, 10, 11, 12, 13, 14, 15, 16, 17, 18, 10, 11, 12, 13, 14, 15, 16, 17, 18, 19, 11, 12, 13, 14, 15, 16, 17, 18, 19, 20, 12, 13, 14, 15, 16, 17, 18, 19, 20, 21, 13, 14, 15, 16, 17, 18, 19, 20, 21, 22, 14, 15, 16, 17, 18, 19, 20, 21, 22, 23, 15, 16, 17, 18, 19, 20, 21, 22, 23, 24, 16, 17, 18, 19, 20, 21, 22, 23, 24, 25, 17, 18, 19, 20, 21, 22, 23, 24, 25, 26, 9, 10, 11, 12, 13, 14, 15, 16, 17, 18, 10, 11, 12, 13, 14, 15, 16, 17, 18, 19, 11, 12, 13, 14, 15, 16, 17, 18, 19, 20, 12, 13, 14, 15, 16, 17, 18, 19, 20, 21, 13, 14, 15, 16, 17, 18, 19, 20, 21, 22, 14, 15, 16, 17, 18, 19, 20, 21, 22, 23, 15, 16, 17, 18, 19, 20, 21, 22, 23, 24, 16, 17, 18, 19, 20, 21, 22, 23, 24, 25, 17, 18, 19, 20, 21, 22, 23, 24, 25, 26, 18, 19, 20, 21, 22, 23, 24, 25, 26, 27]\n"
     ]
    }
   ],
   "source": [
    "# Question 39\n",
    "res = [sum(map(int, str(x))) for x in range(1,1000)]\n",
    "print(res)"
   ]
  },
  {
   "cell_type": "code",
   "execution_count": 75,
   "id": "f7985eb4-bf96-4a74-ad0f-fc1752919113",
   "metadata": {},
   "outputs": [
    {
     "name": "stdout",
     "output_type": "stream",
     "text": [
      "[1, 2, 3, 5, 7, 11, 101, 131, 151, 181, 191, 313, 353, 373, 383, 727, 757, 787, 797, 919, 929]\n"
     ]
    }
   ],
   "source": [
    "# Question 40\n",
    "# Import the necessary modules\n",
    "import math\n",
    "\n",
    "# Create a function to check if a number is prime\n",
    "def is_prime(number):\n",
    "  # Iterate through all the numbers from 2 to the square root of the number\n",
    "  for i in range(2, int(math.sqrt(number)) + 1):\n",
    "    # If the number is divisible by i, it is not prime\n",
    "    if number % i == 0:\n",
    "      return False\n",
    "  # The number is prime\n",
    "  return True\n",
    "\n",
    "# Create a list of all the numbers from 1 to 1000\n",
    "numbers = list(range(1, 1001))\n",
    "prime_numbers = list(filter(is_prime, numbers))\n",
    "prime_palindromic_numbers = [number for number in prime_numbers if str(number) == str(number)[::-1]]\n",
    "\n",
    "# Print the list of prime palindromic numbers\n",
    "print(prime_palindromic_numbers)"
   ]
  },
  {
   "cell_type": "code",
   "execution_count": null,
   "id": "4688fa4e-40f1-4b67-adac-6aa530f61335",
   "metadata": {},
   "outputs": [],
   "source": []
  }
 ],
 "metadata": {
  "kernelspec": {
   "display_name": "Python 3 (ipykernel)",
   "language": "python",
   "name": "python3"
  },
  "language_info": {
   "codemirror_mode": {
    "name": "ipython",
    "version": 3
   },
   "file_extension": ".py",
   "mimetype": "text/x-python",
   "name": "python",
   "nbconvert_exporter": "python",
   "pygments_lexer": "ipython3",
   "version": "3.10.8"
  }
 },
 "nbformat": 4,
 "nbformat_minor": 5
}
